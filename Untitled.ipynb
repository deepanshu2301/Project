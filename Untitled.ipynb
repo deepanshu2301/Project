{
 "cells": [
  {
   "cell_type": "code",
   "execution_count": 16,
   "metadata": {},
   "outputs": [
    {
     "name": "stdout",
     "output_type": "stream",
     "text": [
      "[[[120 142 178]\n",
      "  [120 142 178]\n",
      "  [121 143 179]\n",
      "  ...\n",
      "  [ 85 158 216]\n",
      "  [ 85 158 216]\n",
      "  [ 85 158 216]]\n",
      "\n",
      " [[117 138 176]\n",
      "  [117 139 175]\n",
      "  [117 138 176]\n",
      "  ...\n",
      "  [ 86 159 217]\n",
      "  [ 86 159 217]\n",
      "  [ 86 159 217]]\n",
      "\n",
      " [[110 132 173]\n",
      "  [110 133 171]\n",
      "  [111 133 174]\n",
      "  ...\n",
      "  [ 88 161 221]\n",
      "  [ 88 161 221]\n",
      "  [ 88 161 221]]\n",
      "\n",
      " ...\n",
      "\n",
      " [[ 98 181 237]\n",
      "  [ 98 181 237]\n",
      "  [ 98 181 237]\n",
      "  ...\n",
      "  [101 184 240]\n",
      "  [101 184 240]\n",
      "  [101 184 240]]\n",
      "\n",
      " [[ 99 182 238]\n",
      "  [ 99 182 238]\n",
      "  [ 99 182 238]\n",
      "  ...\n",
      "  [101 184 240]\n",
      "  [101 184 240]\n",
      "  [101 184 240]]\n",
      "\n",
      " [[ 99 182 238]\n",
      "  [ 99 182 238]\n",
      "  [ 99 182 238]\n",
      "  ...\n",
      "  [ 99 184 240]\n",
      "  [101 184 240]\n",
      "  [101 184 240]]]\n"
     ]
    }
   ],
   "source": [
    "import cv2\n",
    "\n",
    "# Load two images\n",
    "img1 = cv2.imread(\"third-party/Jamie_Before.jpg\")\n",
    "img2 = cv2.imread('third-party/hearts.png')\n",
    "\n",
    "# I want to put logo on top-left corner, So I create a ROI\n",
    "rows,cols,channels = img2.shape\n",
    "roi = img1[0:rows, 0:cols ]\n",
    "print(roi)\n",
    "\n",
    "# Now create a mask of logo and create its inverse mask also\n",
    "img2gray = cv2.cvtColor(img2,cv2.COLOR_BGR2GRAY)\n",
    "#cv2.imshow(\"img1_bg\",img2gray)\n",
    "ret, mask = cv2.threshold(img2gray, 10, 255, cv2.THRESH_BINARY)\n",
    "mask_inv = cv2.bitwise_not(mask)\n",
    "\n",
    "# Now black-out the area of logo in ROI\n",
    "img1_bg = cv2.bitwise_and(roi,roi,mask = mask_inv)\n",
    "#cv2.imshow(\"img1_bg\",img1_bg)\n",
    "# Take only region of logo from logo image.\n",
    "img2_fg = cv2.bitwise_and(img2,img2,mask = mask)\n",
    "#cv2.imshow(\"img2_fg\",img2_fg)\n",
    "# Put logo in ROI and modify the main image\n",
    "dst = cv2.add(img1_bg,img2_fg)\n",
    "img1[0:rows, 0:cols ] = dst\n",
    "\n",
    "cv2.imshow('res',img1)\n",
    "cv2.waitKey(0)\n",
    "cv2.destroyAllWindows()"
   ]
  },
  {
   "cell_type": "code",
   "execution_count": null,
   "metadata": {},
   "outputs": [],
   "source": []
  },
  {
   "cell_type": "code",
   "execution_count": null,
   "metadata": {},
   "outputs": [],
   "source": []
  }
 ],
 "metadata": {
  "kernelspec": {
   "display_name": "Python 3",
   "language": "python",
   "name": "python3"
  },
  "language_info": {
   "codemirror_mode": {
    "name": "ipython",
    "version": 3
   },
   "file_extension": ".py",
   "mimetype": "text/x-python",
   "name": "python",
   "nbconvert_exporter": "python",
   "pygments_lexer": "ipython3",
   "version": "3.7.2"
  }
 },
 "nbformat": 4,
 "nbformat_minor": 2
}
